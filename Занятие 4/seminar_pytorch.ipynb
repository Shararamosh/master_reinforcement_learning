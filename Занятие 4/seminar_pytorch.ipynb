{
 "cells": [
  {
   "cell_type": "markdown",
   "metadata": {
    "id": "kr_aKWMGEmh-"
   },
   "source": [
    "# Approximate q-learning\n",
    "\n",
    "In this notebook you will teach a __PyTorch__ neural network to do Q-learning."
   ]
  },
  {
   "cell_type": "code",
   "execution_count": 1,
   "metadata": {
    "colab": {
     "base_uri": "https://localhost:8080/"
    },
    "id": "oaMu65ONEmh_",
    "outputId": "65baa4a7-7961-4d46-ca35-e58615da38b6"
   },
   "outputs": [
    {
     "name": "stdout",
     "output_type": "stream",
     "text": [
      "Starting virtual X frame buffer: Xvfb.\n"
     ]
    }
   ],
   "source": [
    "import sys, os\n",
    "if 'google.colab' in sys.modules and not os.path.exists('.setup_complete'):\n",
    "    !wget -q https://raw.githubusercontent.com/yandexdataschool/Practical_RL/master/setup_colab.sh -O- | bash\n",
    "    !touch .setup_complete\n",
    "\n",
    "# This code creates a virtual display to draw game images on.\n",
    "# It will have no effect if your machine has a monitor.\n",
    "if type(os.environ.get(\"DISPLAY\")) is not str or len(os.environ.get(\"DISPLAY\")) == 0:\n",
    "    !bash ../xvfb start\n",
    "    os.environ['DISPLAY'] = ':1'"
   ]
  },
  {
   "cell_type": "code",
   "execution_count": 2,
   "metadata": {
    "colab": {
     "base_uri": "https://localhost:8080/"
    },
    "id": "avILCRKkEpaX",
    "outputId": "6a656ac6-ed70-473d-8382-7e955fd06599"
   },
   "outputs": [
    {
     "name": "stdout",
     "output_type": "stream",
     "text": [
      "Requirement already satisfied: gymnasium[classic_control] in /usr/local/lib/python3.10/dist-packages (0.29.1)\n",
      "Requirement already satisfied: numpy>=1.21.0 in /usr/local/lib/python3.10/dist-packages (from gymnasium[classic_control]) (1.23.5)\n",
      "Requirement already satisfied: cloudpickle>=1.2.0 in /usr/local/lib/python3.10/dist-packages (from gymnasium[classic_control]) (2.2.1)\n",
      "Requirement already satisfied: typing-extensions>=4.3.0 in /usr/local/lib/python3.10/dist-packages (from gymnasium[classic_control]) (4.5.0)\n",
      "Requirement already satisfied: farama-notifications>=0.0.1 in /usr/local/lib/python3.10/dist-packages (from gymnasium[classic_control]) (0.0.4)\n",
      "Requirement already satisfied: pygame>=2.1.3 in /usr/local/lib/python3.10/dist-packages (from gymnasium[classic_control]) (2.5.2)\n"
     ]
    }
   ],
   "source": [
    "!pip install gymnasium[classic_control]"
   ]
  },
  {
   "cell_type": "code",
   "execution_count": 3,
   "metadata": {
    "id": "K_SRk2ASEmh_"
   },
   "outputs": [],
   "source": [
    "import gymnasium as gym\n",
    "import numpy as np\n",
    "import pandas as pd\n",
    "import matplotlib.pyplot as plt\n",
    "%matplotlib inline"
   ]
  },
  {
   "cell_type": "code",
   "execution_count": 4,
   "metadata": {
    "colab": {
     "base_uri": "https://localhost:8080/",
     "height": 432
    },
    "id": "x2YvkgprEmh_",
    "outputId": "61656814-c1d9-4378-de5d-27131f914dc8"
   },
   "outputs": [
    {
     "name": "stderr",
     "output_type": "stream",
     "text": [
      "/usr/local/lib/python3.10/dist-packages/gymnasium/envs/registration.py:513: DeprecationWarning: \u001b[33mWARN: The environment CartPole-v0 is out of date. You should consider upgrading to version `v1`.\u001b[0m\n",
      "  logger.deprecation(\n"
     ]
    },
    {
     "data": {
      "image/png": "[encoded data removed]",
      "text/plain": [
       "<Figure size 640x480 with 1 Axes>"
      ]
     },
     "metadata": {},
     "output_type": "display_data"
    }
   ],
   "source": [
    "env = gym.make(\"CartPole-v0\", render_mode=\"rgb_array\").env\n",
    "env.reset()\n",
    "n_actions = env.action_space.n\n",
    "state_dim = env.observation_space.shape\n",
    "\n",
    "plt.imshow(env.render())\n",
    "env.close()"
   ]
  },
  {
   "cell_type": "markdown",
   "metadata": {
    "id": "sI8W19CwEmh_"
   },
   "source": [
    "# Approximate Q-learning: building the network\n",
    "\n",
    "To train a neural network policy one must have a neural network policy. Let's build it.\n",
    "\n",
    "\n",
    "Since we're working with a pre-extracted features (cart positions, angles and velocities), we don't need a complicated network yet. In fact, let's build something like this for starters:\n",
    "\n",
    "![img](https://raw.githubusercontent.com/yandexdataschool/Practical_RL/master/yet_another_week/_resource/qlearning_scheme.png)\n",
    "\n",
    "For your first run, please only use linear layers (`nn.Linear`) and activations. Stuff like batch normalization or dropout may ruin everything if used haphazardly.\n",
    "\n",
    "Also please avoid using nonlinearities like sigmoid & tanh: since agent's observations are not normalized, sigmoids might be saturated at initialization. Instead, use non-saturating nonlinearities like ReLU.\n",
    "\n",
    "Ideally you should start small with maybe 1-2 hidden layers with < 200 neurons and then increase network size if agent doesn't beat the target score."
   ]
  },
  {
   "cell_type": "code",
   "execution_count": 5,
   "metadata": {
    "id": "YdWXv8WJEmiA"
   },
   "outputs": [],
   "source": [
    "import torch\n",
    "import torch.nn as nn\n",
    "import torch.nn.functional as F"
   ]
  },
  {
   "cell_type": "code",
   "execution_count": 6,
   "metadata": {
    "id": "y2-PcaIQEmiA"
   },
   "outputs": [],
   "source": [
    "network = nn.Sequential()\n",
    "\n",
    "network.add_module('layer1', nn.Linear(state_dim[0], 40))\n",
    "network.add_module('activation1', nn.ReLU())\n",
    "network.add_module('layer2', nn.Linear(40, n_actions))\n",
    "# hint: use state_dim[0] as input size"
   ]
  },
  {
   "cell_type": "code",
   "execution_count": 7,
   "metadata": {
    "id": "8xuWPGriEmiA"
   },
   "outputs": [],
   "source": [
    "def get_action(state, epsilon=0):\n",
    "    \"\"\"\n",
    "    sample actions with epsilon-greedy policy\n",
    "    recap: with p = epsilon pick random action, else pick action with highest Q(s,a)\n",
    "    \"\"\"\n",
    "    state = torch.tensor(state[None], dtype=torch.float32)\n",
    "    q_values = network(state).detach().numpy()\n",
    "    if np.random.uniform() < epsilon:\n",
    "      return int(np.random.choice(n_actions))\n",
    "    return int(np.argmax(q_values))"
   ]
  },
  {
   "cell_type": "code",
   "execution_count": 8,
   "metadata": {
    "colab": {
     "base_uri": "https://localhost:8080/"
    },
    "id": "wroEfSRNEmiA",
    "outputId": "96e2ea66-0785-48e0-eb3c-2cc36af9b8f7"
   },
   "outputs": [
    {
     "name": "stderr",
     "output_type": "stream",
     "text": [
      "<ipython-input-8-bd48e613f4ae>:2: UserWarning: Creating a tensor from a list of numpy.ndarrays is extremely slow. Please consider converting the list to a single numpy.ndarray with numpy.array() before converting to a tensor. (Triggered internally at ../torch/csrc/utils/tensor_new.cpp:261.)\n",
      "  assert tuple(network(torch.tensor([s]*3, dtype=torch.float32)).size()) == (\n"
     ]
    },
    {
     "name": "stdout",
     "output_type": "stream",
     "text": [
      "e=0.0 tests passed\n",
      "e=0.1 tests passed\n",
      "e=0.5 tests passed\n",
      "e=1.0 tests passed\n"
     ]
    }
   ],
   "source": [
    "s, _ = env.reset()\n",
    "assert tuple(network(torch.tensor([s]*3, dtype=torch.float32)).size()) == (\n",
    "    3, n_actions), \"please make sure your model maps state s -> [Q(s,a0), ..., Q(s, a_last)]\"\n",
    "assert isinstance(list(network.modules(\n",
    "))[-1], nn.Linear), \"please make sure you predict q-values without nonlinearity (ignore if you know what you're doing)\"\n",
    "assert isinstance(get_action(s), int), \"get_action(s) must return int, not %s. try int(action)\" % (type(get_action(s)))\n",
    "\n",
    "# test epsilon-greedy exploration\n",
    "for eps in [0., 0.1, 0.5, 1.0]:\n",
    "    state_frequencies = np.bincount(\n",
    "        [get_action(s, epsilon=eps) for i in range(10000)], minlength=n_actions)\n",
    "    best_action = state_frequencies.argmax()\n",
    "    assert abs(state_frequencies[best_action] -\n",
    "               10000 * (1 - eps + eps / n_actions)) < 200\n",
    "    for other_action in range(n_actions):\n",
    "        if other_action != best_action:\n",
    "            assert abs(state_frequencies[other_action] -\n",
    "                       10000 * (eps / n_actions)) < 200\n",
    "    print('e=%.1f tests passed' % eps)\n"
   ]
  },
  {
   "cell_type": "markdown",
   "metadata": {
    "id": "f88ovLBQEmiA"
   },
   "source": [
    "### Q-learning via gradient descent\n",
    "\n",
    "We shall now train our agent's Q-function by minimizing the TD loss:\n",
    "$$ L = { 1 \\over N} \\sum_i (Q_{\\theta}(s,a) - [r(s,a) + \\gamma \\cdot max_{a'} Q_{-}(s', a')]) ^2 $$\n",
    "\n",
    "\n",
    "Where\n",
    "* $s, a, r, s'$ are current state, action, reward and next state respectively\n",
    "* $\\gamma$ is a discount factor defined two cells above.\n",
    "\n",
    "The tricky part is with  $Q_{-}(s',a')$. From an engineering standpoint, it's the same as $Q_{\\theta}$ - the output of your neural network policy. However, when doing gradient descent, __we won't propagate gradients through it__ to make training more stable (see lectures).\n",
    "\n",
    "To do so, we shall use `x.detach()` function which basically says \"consider this thing constant when doing backprop\"."
   ]
  },
  {
   "cell_type": "code",
   "execution_count": 9,
   "metadata": {
    "id": "bOIpO142EmiB"
   },
   "outputs": [],
   "source": [
    "def compute_td_loss(states, actions, rewards, next_states, is_done, gamma=0.99, check_shapes=False):\n",
    "    \"\"\" Compute td loss using torch operations only. Use the formula above. \"\"\"\n",
    "    states = torch.tensor(\n",
    "        states, dtype=torch.float32)                                  # shape: [batch_size, state_size]\n",
    "    actions = torch.tensor(actions, dtype=torch.long)                 # shape: [batch_size]\n",
    "    rewards = torch.tensor(rewards, dtype=torch.float32)              # shape: [batch_size]\n",
    "    # shape: [batch_size, state_size]\n",
    "    next_states = torch.tensor(next_states, dtype=torch.float32)\n",
    "    is_done = torch.tensor(is_done, dtype=torch.uint8)                # shape: [batch_size]\n",
    "\n",
    "    # get q-values for all actions in current states\n",
    "    predicted_qvalues = network(states)                               # shape: [batch_size, n_actions]\n",
    "\n",
    "    # select q-values for chosen actions\n",
    "    predicted_qvalues_for_actions = predicted_qvalues[                # shape: [batch_size]\n",
    "      range(states.shape[0]), actions\n",
    "    ]\n",
    "\n",
    "    # compute q-values for all actions in next states\n",
    "    predicted_next_qvalues = network(next_states)\n",
    "\n",
    "    # compute V*(next_states) using predicted next q-values\n",
    "    next_state_values,_ = predicted_next_qvalues.max(dim=1)\n",
    "    assert next_state_values.dtype == torch.float32\n",
    "\n",
    "    # compute \"target q-values\" for loss - it's what's inside square parentheses in the above formula.\n",
    "    target_qvalues_for_actions = rewards+gamma*next_state_values\n",
    "\n",
    "    # at the last state we shall use simplified formula: Q(s,a) = r(s,a) since s' doesn't exist\n",
    "    target_qvalues_for_actions = torch.where(\n",
    "        is_done, rewards, target_qvalues_for_actions)\n",
    "\n",
    "    # mean squared error loss to minimize\n",
    "    loss = torch.mean((predicted_qvalues_for_actions -\n",
    "                       target_qvalues_for_actions.detach()) ** 2)\n",
    "\n",
    "    if check_shapes:\n",
    "        assert predicted_next_qvalues.data.dim(\n",
    "        ) == 2, \"make sure you predicted q-values for all actions in next state\"\n",
    "        assert next_state_values.data.dim(\n",
    "        ) == 1, \"make sure you computed V(s') as maximum over just the actions axis and not all axes\"\n",
    "        assert target_qvalues_for_actions.data.dim(\n",
    "        ) == 1, \"there's something wrong with target q-values, they must be a vector\"\n",
    "\n",
    "    return loss"
   ]
  },
  {
   "cell_type": "code",
   "execution_count": 10,
   "metadata": {
    "colab": {
     "base_uri": "https://localhost:8080/"
    },
    "id": "lKi6AK3DEmiB",
    "outputId": "d7a77b0e-f562-46ad-c3ef-1088e8a0214a"
   },
   "outputs": [
    {
     "name": "stderr",
     "output_type": "stream",
     "text": [
      "<ipython-input-9-d49b3346a277>:30: UserWarning: where received a uint8 condition tensor. This behavior is deprecated and will be removed in a future version of PyTorch. Use a boolean condition instead. (Triggered internally at ../aten/src/ATen/native/TensorCompare.cpp:519.)\n",
      "  target_qvalues_for_actions = torch.where(\n"
     ]
    }
   ],
   "source": [
    "# sanity checks\n",
    "s, _ = env.reset()\n",
    "a = env.action_space.sample()\n",
    "next_s, r, terminated, _, _ = env.step(a)\n",
    "loss = compute_td_loss([s], [a], [r], [next_s], [terminated], check_shapes=True)\n",
    "loss.backward()\n",
    "\n",
    "assert len(loss.size()) == 0, \"you must return scalar loss - mean over batch\"\n",
    "assert np.any(next(network.parameters()).grad.detach().numpy() !=\n",
    "              0), \"loss must be differentiable w.r.t. network weights\""
   ]
  },
  {
   "cell_type": "markdown",
   "metadata": {
    "id": "LgL6G5lFEmiB"
   },
   "source": [
    "### Playing the game"
   ]
  },
  {
   "cell_type": "code",
   "execution_count": 11,
   "metadata": {
    "id": "zsHb_fjjEmiB"
   },
   "outputs": [],
   "source": [
    "opt = torch.optim.Adam(network.parameters(), lr=1e-4)"
   ]
  },
  {
   "cell_type": "code",
   "execution_count": 12,
   "metadata": {
    "id": "nJ_-xtsjEmiB"
   },
   "outputs": [],
   "source": [
    "def generate_session(env, t_max=1000, epsilon=0, train=False):\n",
    "    \"\"\"play env with approximate q-learning agent and train it at the same time\"\"\"\n",
    "    total_reward = 0\n",
    "    s, _ = env.reset()\n",
    "\n",
    "    for t in range(t_max):\n",
    "        a = get_action(s, epsilon=epsilon)\n",
    "        next_s, r, terminated, truncated, _ = env.step(a)\n",
    "\n",
    "        if train:\n",
    "            opt.zero_grad()\n",
    "            compute_td_loss([s], [a], [r], [next_s], [terminated]).backward()\n",
    "            opt.step()\n",
    "\n",
    "        total_reward += r\n",
    "        s = next_s\n",
    "        if terminated or truncated:\n",
    "            break\n",
    "\n",
    "    return total_reward"
   ]
  },
  {
   "cell_type": "code",
   "execution_count": 13,
   "metadata": {
    "id": "40mKYuVIEmiB"
   },
   "outputs": [],
   "source": [
    "epsilon = 0.5"
   ]
  },
  {
   "cell_type": "code",
   "execution_count": 14,
   "metadata": {
    "colab": {
     "base_uri": "https://localhost:8080/"
    },
    "id": "EXy8ij00EmiB",
    "outputId": "35052ce0-fed9-4058-aa65-037d5faa0d60"
   },
   "outputs": [
    {
     "name": "stdout",
     "output_type": "stream",
     "text": [
      "epoch #0\tmean reward = 14.220\tepsilon = 0.500\n",
      "epoch #1\tmean reward = 13.400\tepsilon = 0.495\n",
      "epoch #2\tmean reward = 14.250\tepsilon = 0.490\n",
      "epoch #3\tmean reward = 12.750\tepsilon = 0.485\n",
      "epoch #4\tmean reward = 12.890\tepsilon = 0.480\n",
      "epoch #5\tmean reward = 12.850\tepsilon = 0.475\n",
      "epoch #6\tmean reward = 13.800\tepsilon = 0.471\n",
      "epoch #7\tmean reward = 13.510\tepsilon = 0.466\n",
      "epoch #8\tmean reward = 13.360\tepsilon = 0.461\n",
      "epoch #9\tmean reward = 12.960\tepsilon = 0.457\n",
      "epoch #10\tmean reward = 13.210\tepsilon = 0.452\n",
      "epoch #11\tmean reward = 12.680\tepsilon = 0.448\n",
      "epoch #12\tmean reward = 12.620\tepsilon = 0.443\n",
      "epoch #13\tmean reward = 12.770\tepsilon = 0.439\n",
      "epoch #14\tmean reward = 12.950\tepsilon = 0.434\n",
      "epoch #15\tmean reward = 13.460\tepsilon = 0.430\n",
      "epoch #16\tmean reward = 13.500\tepsilon = 0.426\n",
      "epoch #17\tmean reward = 13.260\tepsilon = 0.421\n",
      "epoch #18\tmean reward = 14.570\tepsilon = 0.417\n",
      "epoch #19\tmean reward = 15.910\tepsilon = 0.413\n",
      "epoch #20\tmean reward = 29.980\tepsilon = 0.409\n",
      "epoch #21\tmean reward = 32.050\tepsilon = 0.405\n",
      "epoch #22\tmean reward = 15.490\tepsilon = 0.401\n",
      "epoch #23\tmean reward = 14.630\tepsilon = 0.397\n",
      "epoch #24\tmean reward = 14.170\tepsilon = 0.393\n",
      "epoch #25\tmean reward = 17.080\tepsilon = 0.389\n",
      "epoch #26\tmean reward = 24.830\tepsilon = 0.385\n",
      "epoch #27\tmean reward = 11.680\tepsilon = 0.381\n",
      "epoch #28\tmean reward = 12.240\tepsilon = 0.377\n",
      "epoch #29\tmean reward = 11.950\tepsilon = 0.374\n",
      "epoch #30\tmean reward = 12.790\tepsilon = 0.370\n",
      "epoch #31\tmean reward = 18.100\tepsilon = 0.366\n",
      "epoch #32\tmean reward = 12.440\tepsilon = 0.362\n",
      "epoch #33\tmean reward = 12.100\tepsilon = 0.359\n",
      "epoch #34\tmean reward = 11.980\tepsilon = 0.355\n",
      "epoch #35\tmean reward = 12.270\tepsilon = 0.352\n",
      "epoch #36\tmean reward = 12.090\tepsilon = 0.348\n",
      "epoch #37\tmean reward = 14.130\tepsilon = 0.345\n",
      "epoch #38\tmean reward = 11.500\tepsilon = 0.341\n",
      "epoch #39\tmean reward = 11.550\tepsilon = 0.338\n",
      "epoch #40\tmean reward = 11.360\tepsilon = 0.334\n",
      "epoch #41\tmean reward = 11.700\tepsilon = 0.331\n",
      "epoch #42\tmean reward = 14.630\tepsilon = 0.328\n",
      "epoch #43\tmean reward = 10.940\tepsilon = 0.325\n",
      "epoch #44\tmean reward = 11.540\tepsilon = 0.321\n",
      "epoch #45\tmean reward = 11.820\tepsilon = 0.318\n",
      "epoch #46\tmean reward = 16.280\tepsilon = 0.315\n",
      "epoch #47\tmean reward = 11.500\tepsilon = 0.312\n",
      "epoch #48\tmean reward = 11.120\tepsilon = 0.309\n",
      "epoch #49\tmean reward = 17.730\tepsilon = 0.306\n",
      "epoch #50\tmean reward = 12.070\tepsilon = 0.303\n",
      "epoch #51\tmean reward = 11.680\tepsilon = 0.299\n",
      "epoch #52\tmean reward = 15.300\tepsilon = 0.296\n",
      "epoch #53\tmean reward = 11.430\tepsilon = 0.294\n",
      "epoch #54\tmean reward = 12.230\tepsilon = 0.291\n",
      "epoch #55\tmean reward = 24.380\tepsilon = 0.288\n",
      "epoch #56\tmean reward = 32.970\tepsilon = 0.285\n",
      "epoch #57\tmean reward = 17.930\tepsilon = 0.282\n",
      "epoch #58\tmean reward = 12.080\tepsilon = 0.279\n",
      "epoch #59\tmean reward = 22.950\tepsilon = 0.276\n",
      "epoch #60\tmean reward = 37.650\tepsilon = 0.274\n",
      "epoch #61\tmean reward = 33.810\tepsilon = 0.271\n",
      "epoch #62\tmean reward = 25.860\tepsilon = 0.268\n",
      "epoch #63\tmean reward = 13.120\tepsilon = 0.265\n",
      "epoch #64\tmean reward = 21.290\tepsilon = 0.263\n",
      "epoch #65\tmean reward = 38.350\tepsilon = 0.260\n",
      "epoch #66\tmean reward = 37.290\tepsilon = 0.258\n",
      "epoch #67\tmean reward = 19.300\tepsilon = 0.255\n",
      "epoch #68\tmean reward = 22.610\tepsilon = 0.252\n",
      "epoch #69\tmean reward = 41.600\tepsilon = 0.250\n",
      "epoch #70\tmean reward = 27.580\tepsilon = 0.247\n",
      "epoch #71\tmean reward = 28.200\tepsilon = 0.245\n",
      "epoch #72\tmean reward = 16.880\tepsilon = 0.242\n",
      "epoch #73\tmean reward = 44.130\tepsilon = 0.240\n",
      "epoch #74\tmean reward = 38.020\tepsilon = 0.238\n",
      "epoch #75\tmean reward = 18.530\tepsilon = 0.235\n",
      "epoch #76\tmean reward = 40.230\tepsilon = 0.233\n",
      "epoch #77\tmean reward = 38.200\tepsilon = 0.231\n",
      "epoch #78\tmean reward = 25.230\tepsilon = 0.228\n",
      "epoch #79\tmean reward = 33.240\tepsilon = 0.226\n",
      "epoch #80\tmean reward = 31.440\tepsilon = 0.224\n",
      "epoch #81\tmean reward = 26.210\tepsilon = 0.222\n",
      "epoch #82\tmean reward = 31.960\tepsilon = 0.219\n",
      "epoch #83\tmean reward = 68.260\tepsilon = 0.217\n",
      "epoch #84\tmean reward = 55.420\tepsilon = 0.215\n",
      "epoch #85\tmean reward = 72.890\tepsilon = 0.213\n",
      "epoch #86\tmean reward = 32.990\tepsilon = 0.211\n",
      "epoch #87\tmean reward = 60.320\tepsilon = 0.209\n",
      "epoch #88\tmean reward = 58.660\tepsilon = 0.206\n",
      "epoch #89\tmean reward = 58.070\tepsilon = 0.204\n",
      "epoch #90\tmean reward = 65.750\tepsilon = 0.202\n",
      "epoch #91\tmean reward = 68.760\tepsilon = 0.200\n",
      "epoch #92\tmean reward = 81.670\tepsilon = 0.198\n",
      "epoch #93\tmean reward = 95.220\tepsilon = 0.196\n",
      "epoch #94\tmean reward = 110.910\tepsilon = 0.194\n",
      "epoch #95\tmean reward = 151.130\tepsilon = 0.192\n",
      "epoch #96\tmean reward = 197.870\tepsilon = 0.191\n",
      "epoch #97\tmean reward = 261.450\tepsilon = 0.189\n",
      "epoch #98\tmean reward = 307.680\tepsilon = 0.187\n",
      "You Win!\n"
     ]
    }
   ],
   "source": [
    "for i in range(1000):\n",
    "    session_rewards = [generate_session(env, epsilon=epsilon, train=True) for _ in range(100)]\n",
    "    print(\"epoch #{}\\tmean reward = {:.3f}\\tepsilon = {:.3f}\".format(i, np.mean(session_rewards), epsilon))\n",
    "\n",
    "    epsilon *= 0.99\n",
    "    assert epsilon >= 1e-4, \"Make sure epsilon is always nonzero during training\"\n",
    "\n",
    "    if np.mean(session_rewards) > 300:\n",
    "        print(\"You Win!\")\n",
    "        break"
   ]
  },
  {
   "cell_type": "markdown",
   "metadata": {
    "id": "XJPoF9XtEmiB"
   },
   "source": [
    "### How to interpret results\n",
    "\n",
    "\n",
    "Welcome to the f.. world of deep f...n reinforcement learning. Don't expect agent's reward to smoothly go up. Hope for it to go increase eventually. If it deems you worthy.\n",
    "\n",
    "Seriously though,\n",
    "* __ mean reward__ is the average reward per game. For a correct implementation it may stay low for some 10 epochs, then start growing while oscilating insanely and converges by ~50-100 steps depending on the network architecture.\n",
    "* If it never reaches target score by the end of for loop, try increasing the number of hidden neurons or look at the epsilon.\n",
    "* __ epsilon__ - agent's willingness to explore. If you see that agent's already at < 0.01 epsilon before it's is at least 200, just reset it back to 0.1 - 0.5."
   ]
  },
  {
   "cell_type": "markdown",
   "metadata": {
    "id": "lhKiN-qOEmiB"
   },
   "source": [
    "### Record videos\n",
    "\n",
    "As usual, we now use `gymnasium.wrappers.RecordVideo` to record a video of our agent playing the game. Unlike our previous attempts with state binarization, this time we expect our agent to act ~~(or fail)~~ more smoothly since there's no more binarization error at play.\n",
    "\n",
    "As you already did with tabular q-learning, we set epsilon=0 for final evaluation to prevent agent from exploring himself to death."
   ]
  },
  {
   "cell_type": "code",
   "execution_count": 15,
   "metadata": {
    "colab": {
     "base_uri": "https://localhost:8080/"
    },
    "id": "2yqPkj6HEmiB",
    "outputId": "4598d5cf-07a7-48b3-ff23-f4629a5c2fe7"
   },
   "outputs": [
    {
     "name": "stderr",
     "output_type": "stream",
     "text": [
      "/usr/local/lib/python3.10/dist-packages/gymnasium/envs/registration.py:513: DeprecationWarning: \u001b[33mWARN: The environment CartPole-v0 is out of date. You should consider upgrading to version `v1`.\u001b[0m\n",
      "  logger.deprecation(\n"
     ]
    },
    {
     "name": "stdout",
     "output_type": "stream",
     "text": [
      "Moviepy - Building video /content/videos/rl-video-episode-0.mp4.\n",
      "Moviepy - Writing video /content/videos/rl-video-episode-0.mp4\n",
      "\n"
     ]
    },
    {
     "name": "stderr",
     "output_type": "stream",
     "text": []
    },
    {
     "name": "stdout",
     "output_type": "stream",
     "text": [
      "Moviepy - Done !\n",
      "Moviepy - video ready /content/videos/rl-video-episode-0.mp4\n",
      "Moviepy - Building video /content/videos/rl-video-episode-1.mp4.\n",
      "Moviepy - Writing video /content/videos/rl-video-episode-1.mp4\n",
      "\n"
     ]
    },
    {
     "name": "stderr",
     "output_type": "stream",
     "text": []
    },
    {
     "name": "stdout",
     "output_type": "stream",
     "text": [
      "Moviepy - Done !\n",
      "Moviepy - video ready /content/videos/rl-video-episode-1.mp4\n",
      "Moviepy - Building video /content/videos/rl-video-episode-8.mp4.\n",
      "Moviepy - Writing video /content/videos/rl-video-episode-8.mp4\n",
      "\n"
     ]
    },
    {
     "name": "stderr",
     "output_type": "stream",
     "text": []
    },
    {
     "name": "stdout",
     "output_type": "stream",
     "text": [
      "Moviepy - Done !\n",
      "Moviepy - video ready /content/videos/rl-video-episode-8.mp4\n",
      "Moviepy - Building video /content/videos/rl-video-episode-27.mp4.\n",
      "Moviepy - Writing video /content/videos/rl-video-episode-27.mp4\n",
      "\n"
     ]
    },
    {
     "name": "stderr",
     "output_type": "stream",
     "text": []
    },
    {
     "name": "stdout",
     "output_type": "stream",
     "text": [
      "Moviepy - Done !\n",
      "Moviepy - video ready /content/videos/rl-video-episode-27.mp4\n",
      "Moviepy - Building video /content/videos/rl-video-episode-64.mp4.\n",
      "Moviepy - Writing video /content/videos/rl-video-episode-64.mp4\n",
      "\n"
     ]
    },
    {
     "name": "stderr",
     "output_type": "stream",
     "text": []
    },
    {
     "name": "stdout",
     "output_type": "stream",
     "text": [
      "Moviepy - Done !\n",
      "Moviepy - video ready /content/videos/rl-video-episode-64.mp4\n"
     ]
    }
   ],
   "source": [
    "# Record sessions\n",
    "\n",
    "from gymnasium.wrappers import RecordVideo\n",
    "\n",
    "with gym.make(\"CartPole-v0\", render_mode=\"rgb_array\") as record_env, RecordVideo(\n",
    "    record_env, video_folder=\"videos\"\n",
    ") as env_monitor:\n",
    "    sessions = [\n",
    "        generate_session(env_monitor, epsilon=0, train=False) for _ in range(100)\n",
    "    ]\n"
   ]
  },
  {
   "cell_type": "code",
   "execution_count": 16,
   "metadata": {
    "colab": {
     "base_uri": "https://localhost:8080/",
     "height": 501
    },
    "id": "afqi2qomEmiC",
    "outputId": "2899297f-1bf6-45f4-e593-5b6ea71049b9"
   },
   "outputs": [
    {
     "data": {
      "text/html": [
       "\n",
       "<video width=\"640\" height=\"480\" controls>\n",
       "  <source src=\"data:video/mp4;base64,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\" type=\"video/mp4\">\n",
       "</video>\n"
      ],
      "text/plain": [
       "<IPython.core.display.HTML object>"
      ]
     },
     "execution_count": 16,
     "metadata": {},
     "output_type": "execute_result"
    }
   ],
   "source": [
    "# Show video. This may not work in some setups. If it doesn't\n",
    "# work for you, you can download the videos and view them locally.\n",
    "\n",
    "from pathlib import Path\n",
    "from base64 import b64encode\n",
    "from IPython.display import HTML\n",
    "\n",
    "video_paths = sorted([s for s in Path('videos').iterdir() if s.suffix == '.mp4'])\n",
    "video_path = video_paths[-1]  # You can also try other indices\n",
    "\n",
    "if 'google.colab' in sys.modules:\n",
    "    # https://stackoverflow.com/a/57378660/1214547\n",
    "    with video_path.open('rb') as fp:\n",
    "        mp4 = fp.read()\n",
    "    data_url = 'data:video/mp4;base64,' + b64encode(mp4).decode()\n",
    "else:\n",
    "    data_url = str(video_path)\n",
    "\n",
    "HTML(\"\"\"\n",
    "<video width=\"640\" height=\"480\" controls>\n",
    "  <source src=\"{}\" type=\"video/mp4\">\n",
    "</video>\n",
    "\"\"\".format(data_url))"
   ]
  }
 ],
 "metadata": {
  "accelerator": "TPU",
  "colab": {
   "provenance": []
  },
  "kernelspec": {
   "display_name": "Python 3 (ipykernel)",
   "language": "python",
   "name": "python3"
  },
  "language_info": {
   "codemirror_mode": {
    "name": "ipython",
    "version": 3
   },
   "file_extension": ".py",
   "mimetype": "text/x-python",
   "name": "python",
   "nbconvert_exporter": "python",
   "pygments_lexer": "ipython3",
   "version": "3.11.6"
  }
 },
 "nbformat": 4,
 "nbformat_minor": 4
}
